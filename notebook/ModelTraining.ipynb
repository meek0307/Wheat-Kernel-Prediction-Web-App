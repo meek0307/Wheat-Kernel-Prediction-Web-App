{
 "cells": [
  {
   "attachments": {},
   "cell_type": "markdown",
   "metadata": {},
   "source": [
    "##### 5. Model Selection & Model Training"
   ]
  },
  {
   "cell_type": "code",
   "execution_count": 11,
   "metadata": {},
   "outputs": [],
   "source": [
    "# import necessary libraries\n",
    "import pandas as pd\n",
    "import numpy as np\n",
    "from scipy import stats\n",
    "import matplotlib.pyplot as plt\n",
    "import seaborn as sns\n",
    "from sklearn.preprocessing import MinMaxScaler, StandardScaler\n",
    "from sklearn.preprocessing import LabelEncoder\n",
    "\n",
    "from sklearn.preprocessing import OneHotEncoder, StandardScaler\n",
    "from sklearn.compose import ColumnTransformer\n",
    "\n",
    "# Modelling\n",
    "from sklearn.metrics import mean_squared_error, r2_score\n",
    "from sklearn.linear_model import LogisticRegression\n",
    "from sklearn.naive_bayes import GaussianNB\n",
    "from sklearn.tree import DecisionTreeClassifier\n",
    "from sklearn.ensemble import RandomForestClassifier, GradientBoostingClassifier, AdaBoostClassifier\n",
    "from sklearn.svm import SVC\n",
    "from sklearn.neighbors import KNeighborsClassifier\n",
    "from lightgbm import LGBMClassifier\n",
    "from xgboost import XGBClassifier\n",
    "from catboost import CatBoostClassifier\n",
    "from sklearn.ensemble import BaggingClassifier, ExtraTreesClassifier\n",
    "from sklearn.model_selection import train_test_split\n",
    "from sklearn.metrics import accuracy_score, precision_score, recall_score, f1_score\n",
    "\n",
    "import warnings\n",
    "from sklearn.metrics import confusion_matrix\n",
    "from sklearn.metrics import precision_recall_fscore_support\n",
    "from sklearn.metrics import roc_auc_score"
   ]
  },
  {
   "cell_type": "code",
   "execution_count": 12,
   "metadata": {},
   "outputs": [],
   "source": [
    "# load the data\n",
    "df = pd.read_csv('data/seeds_dataset.csv')\n",
    "LABEL_MAP = {\n",
    "    1: \"Kama\",\n",
    "    2: \"Rosa\",\n",
    "    3: \"Canadian\",\n",
    "}\n",
    "# Convert class labels into text\n",
    "df[\"Class (1, 2, 3)\"] = df[\"Class (1, 2, 3)\"].map(LABEL_MAP)\n"
   ]
  },
  {
   "cell_type": "code",
   "execution_count": 13,
   "metadata": {},
   "outputs": [],
   "source": [
    "#droping the unwanted columns\n",
    "df.drop(['Unnamed: 8','Unnamed: 9'],axis=1,inplace=True)"
   ]
  },
  {
   "cell_type": "code",
   "execution_count": 14,
   "metadata": {},
   "outputs": [],
   "source": [
    "# separate the features and target variable\n",
    "X = df.drop('Class (1, 2, 3)', axis=1)\n",
    "y = df['Class (1, 2, 3)']"
   ]
  },
  {
   "cell_type": "code",
   "execution_count": 15,
   "metadata": {},
   "outputs": [
    {
     "name": "stdout",
     "output_type": "stream",
     "text": [
      "Normalized data: \n",
      " [[0.44098206 0.50206612 0.5707804  ... 0.48610121 0.18930164 0.34515017]\n",
      " [0.40509915 0.44628099 0.66243194 ... 0.50106914 0.03288302 0.21516494]\n",
      " [0.34938621 0.34710744 0.87931034 ... 0.50392017 0.25145302 0.1506647 ]\n",
      " ...\n",
      " [0.24645892 0.25826446 0.7277677  ... 0.42908054 0.98166664 0.26440177]\n",
      " [0.11803588 0.16528926 0.39927405 ... 0.14682823 0.36834441 0.25849335]\n",
      " [0.16147309 0.19214876 0.54718693 ... 0.24518888 0.63346292 0.26784835]]\n"
     ]
    }
   ],
   "source": [
    "# Normalize and Scale the data using MinMaxScaler\n",
    "scaler = MinMaxScaler()\n",
    "X= scaler.fit_transform(X)\n",
    "\n",
    "\n",
    "# Print the normalized and scaled data\n",
    "print(\"Normalized data: \\n\", X)\n"
   ]
  },
  {
   "cell_type": "code",
   "execution_count": 16,
   "metadata": {},
   "outputs": [
    {
     "name": "stderr",
     "output_type": "stream",
     "text": [
      "c:\\Users\\HP\\Downloads\\WheatKernel\\venv\\lib\\site-packages\\sklearn\\svm\\_base.py:1244: ConvergenceWarning: Liblinear failed to converge, increase the number of iterations.\n",
      "  warnings.warn(\n"
     ]
    },
    {
     "name": "stdout",
     "output_type": "stream",
     "text": [
      "Learning rate set to 0.5\n",
      "0:\tlearn: 0.6939646\ttotal: 10.8ms\tremaining: 1.06s\n",
      "1:\tlearn: 0.4774933\ttotal: 14ms\tremaining: 684ms\n",
      "2:\tlearn: 0.3946588\ttotal: 23.5ms\tremaining: 759ms\n",
      "3:\tlearn: 0.3319374\ttotal: 26.2ms\tremaining: 630ms\n",
      "4:\tlearn: 0.2745760\ttotal: 30.2ms\tremaining: 573ms\n",
      "5:\tlearn: 0.2434827\ttotal: 39ms\tremaining: 611ms\n",
      "6:\tlearn: 0.2182787\ttotal: 41.6ms\tremaining: 553ms\n",
      "7:\tlearn: 0.1998170\ttotal: 44.6ms\tremaining: 513ms\n",
      "8:\tlearn: 0.1830054\ttotal: 48.5ms\tremaining: 491ms\n",
      "9:\tlearn: 0.1644992\ttotal: 54.3ms\tremaining: 489ms\n",
      "10:\tlearn: 0.1580069\ttotal: 57.1ms\tremaining: 462ms\n",
      "11:\tlearn: 0.1482158\ttotal: 59.1ms\tremaining: 434ms\n",
      "12:\tlearn: 0.1390966\ttotal: 61ms\tremaining: 408ms\n",
      "13:\tlearn: 0.1328039\ttotal: 66.6ms\tremaining: 409ms\n",
      "14:\tlearn: 0.1252399\ttotal: 70.5ms\tremaining: 400ms\n",
      "15:\tlearn: 0.1155078\ttotal: 73.1ms\tremaining: 384ms\n",
      "16:\tlearn: 0.1132030\ttotal: 74.9ms\tremaining: 366ms\n",
      "17:\tlearn: 0.1046242\ttotal: 81.2ms\tremaining: 370ms\n",
      "18:\tlearn: 0.0945958\ttotal: 89.7ms\tremaining: 383ms\n",
      "19:\tlearn: 0.0898636\ttotal: 92.5ms\tremaining: 370ms\n",
      "20:\tlearn: 0.0828566\ttotal: 100ms\tremaining: 376ms\n",
      "21:\tlearn: 0.0779518\ttotal: 104ms\tremaining: 370ms\n",
      "22:\tlearn: 0.0758478\ttotal: 108ms\tremaining: 360ms\n",
      "23:\tlearn: 0.0726805\ttotal: 112ms\tremaining: 355ms\n",
      "24:\tlearn: 0.0678622\ttotal: 116ms\tremaining: 348ms\n",
      "25:\tlearn: 0.0652841\ttotal: 121ms\tremaining: 345ms\n",
      "26:\tlearn: 0.0617090\ttotal: 122ms\tremaining: 331ms\n",
      "27:\tlearn: 0.0573122\ttotal: 131ms\tremaining: 336ms\n",
      "28:\tlearn: 0.0562187\ttotal: 137ms\tremaining: 334ms\n",
      "29:\tlearn: 0.0554191\ttotal: 139ms\tremaining: 325ms\n",
      "30:\tlearn: 0.0525556\ttotal: 145ms\tremaining: 322ms\n",
      "31:\tlearn: 0.0506118\ttotal: 149ms\tremaining: 317ms\n",
      "32:\tlearn: 0.0482976\ttotal: 152ms\tremaining: 309ms\n",
      "33:\tlearn: 0.0446821\ttotal: 156ms\tremaining: 303ms\n",
      "34:\tlearn: 0.0429572\ttotal: 163ms\tremaining: 302ms\n",
      "35:\tlearn: 0.0412569\ttotal: 169ms\tremaining: 301ms\n",
      "36:\tlearn: 0.0402309\ttotal: 172ms\tremaining: 292ms\n",
      "37:\tlearn: 0.0384056\ttotal: 179ms\tremaining: 291ms\n",
      "38:\tlearn: 0.0366404\ttotal: 181ms\tremaining: 283ms\n",
      "39:\tlearn: 0.0358223\ttotal: 184ms\tremaining: 276ms\n",
      "40:\tlearn: 0.0346319\ttotal: 186ms\tremaining: 268ms\n",
      "41:\tlearn: 0.0335563\ttotal: 190ms\tremaining: 263ms\n",
      "42:\tlearn: 0.0318836\ttotal: 194ms\tremaining: 257ms\n",
      "43:\tlearn: 0.0309632\ttotal: 197ms\tremaining: 250ms\n",
      "44:\tlearn: 0.0291630\ttotal: 201ms\tremaining: 246ms\n",
      "45:\tlearn: 0.0284796\ttotal: 210ms\tremaining: 246ms\n",
      "46:\tlearn: 0.0276187\ttotal: 214ms\tremaining: 241ms\n",
      "47:\tlearn: 0.0274203\ttotal: 217ms\tremaining: 235ms\n",
      "48:\tlearn: 0.0266858\ttotal: 221ms\tremaining: 230ms\n",
      "49:\tlearn: 0.0255035\ttotal: 229ms\tremaining: 229ms\n",
      "50:\tlearn: 0.0250448\ttotal: 232ms\tremaining: 223ms\n",
      "51:\tlearn: 0.0243766\ttotal: 245ms\tremaining: 226ms\n",
      "52:\tlearn: 0.0239841\ttotal: 252ms\tremaining: 223ms\n",
      "53:\tlearn: 0.0235533\ttotal: 257ms\tremaining: 219ms\n",
      "54:\tlearn: 0.0229662\ttotal: 260ms\tremaining: 213ms\n",
      "55:\tlearn: 0.0226541\ttotal: 262ms\tremaining: 206ms\n",
      "56:\tlearn: 0.0221173\ttotal: 272ms\tremaining: 205ms\n",
      "57:\tlearn: 0.0219194\ttotal: 282ms\tremaining: 204ms\n",
      "58:\tlearn: 0.0215699\ttotal: 289ms\tremaining: 201ms\n",
      "59:\tlearn: 0.0210325\ttotal: 295ms\tremaining: 197ms\n",
      "60:\tlearn: 0.0206499\ttotal: 300ms\tremaining: 192ms\n",
      "61:\tlearn: 0.0196922\ttotal: 306ms\tremaining: 188ms\n",
      "62:\tlearn: 0.0194515\ttotal: 310ms\tremaining: 182ms\n",
      "63:\tlearn: 0.0192052\ttotal: 312ms\tremaining: 176ms\n",
      "64:\tlearn: 0.0188857\ttotal: 315ms\tremaining: 170ms\n",
      "65:\tlearn: 0.0183885\ttotal: 322ms\tremaining: 166ms\n",
      "66:\tlearn: 0.0181820\ttotal: 325ms\tremaining: 160ms\n",
      "67:\tlearn: 0.0177603\ttotal: 327ms\tremaining: 154ms\n",
      "68:\tlearn: 0.0175179\ttotal: 329ms\tremaining: 148ms\n",
      "69:\tlearn: 0.0172176\ttotal: 339ms\tremaining: 145ms\n",
      "70:\tlearn: 0.0167072\ttotal: 343ms\tremaining: 140ms\n",
      "71:\tlearn: 0.0164535\ttotal: 345ms\tremaining: 134ms\n",
      "72:\tlearn: 0.0161695\ttotal: 352ms\tremaining: 130ms\n",
      "73:\tlearn: 0.0159459\ttotal: 355ms\tremaining: 125ms\n",
      "74:\tlearn: 0.0155074\ttotal: 357ms\tremaining: 119ms\n",
      "75:\tlearn: 0.0151933\ttotal: 359ms\tremaining: 113ms\n",
      "76:\tlearn: 0.0149370\ttotal: 360ms\tremaining: 108ms\n",
      "77:\tlearn: 0.0145857\ttotal: 365ms\tremaining: 103ms\n",
      "78:\tlearn: 0.0144718\ttotal: 370ms\tremaining: 98.4ms\n",
      "79:\tlearn: 0.0141795\ttotal: 373ms\tremaining: 93.2ms\n",
      "80:\tlearn: 0.0138524\ttotal: 376ms\tremaining: 88.1ms\n",
      "81:\tlearn: 0.0137199\ttotal: 378ms\tremaining: 83ms\n",
      "82:\tlearn: 0.0135161\ttotal: 384ms\tremaining: 78.7ms\n",
      "83:\tlearn: 0.0133975\ttotal: 389ms\tremaining: 74ms\n",
      "84:\tlearn: 0.0131813\ttotal: 391ms\tremaining: 69ms\n",
      "85:\tlearn: 0.0131184\ttotal: 393ms\tremaining: 63.9ms\n",
      "86:\tlearn: 0.0128681\ttotal: 399ms\tremaining: 59.6ms\n",
      "87:\tlearn: 0.0127420\ttotal: 405ms\tremaining: 55.3ms\n",
      "88:\tlearn: 0.0125562\ttotal: 408ms\tremaining: 50.4ms\n",
      "89:\tlearn: 0.0124437\ttotal: 414ms\tremaining: 46ms\n",
      "90:\tlearn: 0.0123139\ttotal: 417ms\tremaining: 41.2ms\n",
      "91:\tlearn: 0.0122316\ttotal: 419ms\tremaining: 36.5ms\n",
      "92:\tlearn: 0.0121471\ttotal: 421ms\tremaining: 31.7ms\n",
      "93:\tlearn: 0.0120572\ttotal: 423ms\tremaining: 27ms\n",
      "94:\tlearn: 0.0117196\ttotal: 426ms\tremaining: 22.4ms\n",
      "95:\tlearn: 0.0114890\ttotal: 430ms\tremaining: 17.9ms\n",
      "96:\tlearn: 0.0113524\ttotal: 433ms\tremaining: 13.4ms\n",
      "97:\tlearn: 0.0112796\ttotal: 436ms\tremaining: 8.89ms\n",
      "98:\tlearn: 0.0110994\ttotal: 437ms\tremaining: 4.42ms\n",
      "99:\tlearn: 0.0107989\ttotal: 439ms\tremaining: 0us\n"
     ]
    }
   ],
   "source": [
    "# Split the dataset into features and labels\n",
    "X = df.iloc[:, :-1]\n",
    "y = df.iloc[:, -1]\n",
    "\n",
    "# Split the data into training and test sets\n",
    "X_train, X_test, y_train, y_test = train_test_split(X, y, test_size=0.2, random_state=42)\n",
    "\n",
    "# Define a list of models\n",
    "models = [ LogisticRegression(solver='liblinear', penalty='l1', max_iter=100),\n",
    "           GradientBoostingClassifier(n_estimators=100,random_state=5,learning_rate=0.1),\n",
    "           SVC(kernel='rbf', C=2, gamma=1.0),\n",
    "           BaggingClassifier(n_estimators=100,random_state=5),\n",
    "           GaussianNB(),\n",
    "           RandomForestClassifier(n_estimators=100, random_state=5,max_depth=5,criterion = 'entropy'),\n",
    "           KNeighborsClassifier(n_neighbors=10),\n",
    "           AdaBoostClassifier(n_estimators=100,random_state=5,),\n",
    "           LGBMClassifier(n_estimators=100,random_state=5), \n",
    "           CatBoostClassifier(n_estimators=100,random_state=5),\n",
    "           ExtraTreesClassifier(n_estimators=100,random_state=5)]\n",
    "\n",
    "# Define a list of model names\n",
    "model_names = [\"LogisticRegression\", \"GaussianNB\", \"DecisionTree\", \"RandomForest\", \"GradientBoosting\", \"SVM\",\n",
    "               \"KNN\", \"AdaBoost\", \"LightGBM\", \"CatBoost\", \"Bagging\", \"ExtraTrees\"]\n",
    "\n",
    "# Iterate over the models\n",
    "for model, model_name in zip(models, model_names):\n",
    "    # Fit the model to the training data\n",
    "    model.fit(X_train, y_train)\n",
    "\n",
    "    # Make predictions on the test data\n",
    "    y_pred = model.predict(X_test)\n",
    "\n",
    "    "
   ]
  },
  {
   "cell_type": "code",
   "execution_count": 17,
   "metadata": {},
   "outputs": [
    {
     "data": {
      "text/plain": [
       "((168, 7), (42, 7))"
      ]
     },
     "execution_count": 17,
     "metadata": {},
     "output_type": "execute_result"
    }
   ],
   "source": [
    "# separate dataset into train and test\n",
    "from sklearn.model_selection import train_test_split\n",
    "X_train, X_test, y_train, y_test = train_test_split(X,y,test_size=0.2,random_state=42)\n",
    "X_train.shape, X_test.shape"
   ]
  },
  {
   "cell_type": "code",
   "execution_count": 18,
   "metadata": {},
   "outputs": [
    {
     "name": "stderr",
     "output_type": "stream",
     "text": [
      "c:\\Users\\HP\\Downloads\\WheatKernel\\venv\\lib\\site-packages\\sklearn\\metrics\\_classification.py:1344: UndefinedMetricWarning: Precision is ill-defined and being set to 0.0 in labels with no predicted samples. Use `zero_division` parameter to control this behavior.\n",
      "  _warn_prf(average, modifier, msg_start, len(result))\n",
      "c:\\Users\\HP\\Downloads\\WheatKernel\\venv\\lib\\site-packages\\sklearn\\metrics\\_classification.py:1344: UndefinedMetricWarning: Precision and F-score are ill-defined and being set to 0.0 in labels with no predicted samples. Use `zero_division` parameter to control this behavior.\n",
      "  _warn_prf(average, modifier, msg_start, len(result))\n"
     ]
    },
    {
     "name": "stdout",
     "output_type": "stream",
     "text": [
      "LogisticRegression - precision: 0.98, recall: 0.98, fscore: 0.98\n",
      "GradientBoostingClassifier - precision: 0.94, recall: 0.93, fscore: 0.93\n",
      "SVC - precision: 0.91, recall: 0.90, fscore: 0.91\n",
      "BaggingClassifier - precision: 0.91, recall: 0.90, fscore: 0.91\n",
      "GaussianNB - precision: 0.86, recall: 0.86, fscore: 0.86\n",
      "RandomForestClassifier - precision: 0.91, recall: 0.90, fscore: 0.91\n",
      "KNeighborsClassifier - precision: 0.93, recall: 0.93, fscore: 0.93\n",
      "AdaBoostClassifier - precision: 0.44, recall: 0.60, fscore: 0.48\n",
      "LGBMClassifier - precision: 0.91, recall: 0.90, fscore: 0.91\n",
      "CatBoostClassifier - precision: 0.93, recall: 0.93, fscore: 0.93\n",
      "ExtraTreesClassifier - precision: 0.88, recall: 0.88, fscore: 0.88\n"
     ]
    }
   ],
   "source": [
    "results = []\n",
    "for model in models:\n",
    "    y_pred = model.predict(X_test)\n",
    "    accuracy = accuracy_score(y_test, y_pred)\n",
    "    precision = precision_score(y_test, y_pred, average='weighted')\n",
    "    recall = recall_score(y_test, y_pred, average='weighted')\n",
    "    f1 = f1_score(y_test, y_pred, average='weighted')\n",
    "    result = {'Accuracy': accuracy, 'Precision': precision, 'Recall': recall, 'F1-Score': f1}\n",
    "    results.append(result)\n",
    "\n",
    "zip_file = zip(models, results)\n",
    "\n",
    "\n",
    "for model, result in zip(models, results):\n",
    "        y_pred = model.predict(X_test)\n",
    "        np.seterr(divide='ignore', invalid='ignore')\n",
    "        precision, recall, fscore, support = precision_recall_fscore_support(y_test, y_pred, average='weighted')\n",
    "        print(f'{model.__class__.__name__} - precision: {precision:.2f}, recall: {recall:.2f}, fscore: {fscore:.2f}')"
   ]
  },
  {
   "cell_type": "code",
   "execution_count": 19,
   "metadata": {},
   "outputs": [
    {
     "name": "stderr",
     "output_type": "stream",
     "text": [
      "c:\\Users\\HP\\Downloads\\WheatKernel\\venv\\lib\\site-packages\\sklearn\\svm\\_base.py:1244: ConvergenceWarning: Liblinear failed to converge, increase the number of iterations.\n",
      "  warnings.warn(\n",
      "c:\\Users\\HP\\Downloads\\WheatKernel\\venv\\lib\\site-packages\\sklearn\\metrics\\_classification.py:1344: UndefinedMetricWarning: Precision is ill-defined and being set to 0.0 in labels with no predicted samples. Use `zero_division` parameter to control this behavior.\n",
      "  _warn_prf(average, modifier, msg_start, len(result))\n"
     ]
    },
    {
     "name": "stdout",
     "output_type": "stream",
     "text": [
      "Learning rate set to 0.5\n",
      "0:\tlearn: 0.6939646\ttotal: 2.44ms\tremaining: 242ms\n",
      "1:\tlearn: 0.4774933\ttotal: 4.26ms\tremaining: 209ms\n",
      "2:\tlearn: 0.3946588\ttotal: 6.14ms\tremaining: 198ms\n",
      "3:\tlearn: 0.3319374\ttotal: 10.1ms\tremaining: 242ms\n",
      "4:\tlearn: 0.2745760\ttotal: 12ms\tremaining: 228ms\n",
      "5:\tlearn: 0.2434827\ttotal: 13.8ms\tremaining: 217ms\n",
      "6:\tlearn: 0.2182787\ttotal: 15.6ms\tremaining: 208ms\n",
      "7:\tlearn: 0.1998170\ttotal: 17.5ms\tremaining: 201ms\n",
      "8:\tlearn: 0.1830054\ttotal: 19.3ms\tremaining: 195ms\n",
      "9:\tlearn: 0.1644992\ttotal: 21.9ms\tremaining: 197ms\n",
      "10:\tlearn: 0.1580069\ttotal: 25.7ms\tremaining: 208ms\n",
      "11:\tlearn: 0.1482158\ttotal: 28.3ms\tremaining: 207ms\n",
      "12:\tlearn: 0.1390966\ttotal: 30.1ms\tremaining: 201ms\n",
      "13:\tlearn: 0.1328039\ttotal: 32.1ms\tremaining: 197ms\n",
      "14:\tlearn: 0.1252399\ttotal: 34ms\tremaining: 193ms\n",
      "15:\tlearn: 0.1155078\ttotal: 36ms\tremaining: 189ms\n",
      "16:\tlearn: 0.1132030\ttotal: 38ms\tremaining: 185ms\n",
      "17:\tlearn: 0.1046242\ttotal: 42.4ms\tremaining: 193ms\n",
      "18:\tlearn: 0.0945958\ttotal: 44.8ms\tremaining: 191ms\n",
      "19:\tlearn: 0.0898636\ttotal: 46.8ms\tremaining: 187ms\n",
      "20:\tlearn: 0.0828566\ttotal: 48.7ms\tremaining: 183ms\n",
      "21:\tlearn: 0.0779518\ttotal: 50.7ms\tremaining: 180ms\n",
      "22:\tlearn: 0.0758478\ttotal: 52.6ms\tremaining: 176ms\n",
      "23:\tlearn: 0.0726805\ttotal: 55.6ms\tremaining: 176ms\n",
      "24:\tlearn: 0.0678622\ttotal: 58.9ms\tremaining: 177ms\n",
      "25:\tlearn: 0.0652841\ttotal: 61ms\tremaining: 174ms\n",
      "26:\tlearn: 0.0617090\ttotal: 62.1ms\tremaining: 168ms\n",
      "27:\tlearn: 0.0573122\ttotal: 63.9ms\tremaining: 164ms\n",
      "28:\tlearn: 0.0562187\ttotal: 66.2ms\tremaining: 162ms\n",
      "29:\tlearn: 0.0554191\ttotal: 68.1ms\tremaining: 159ms\n",
      "30:\tlearn: 0.0525556\ttotal: 70.1ms\tremaining: 156ms\n",
      "31:\tlearn: 0.0506118\ttotal: 73.5ms\tremaining: 156ms\n",
      "32:\tlearn: 0.0482976\ttotal: 76ms\tremaining: 154ms\n",
      "33:\tlearn: 0.0446821\ttotal: 78.1ms\tremaining: 152ms\n",
      "34:\tlearn: 0.0429572\ttotal: 80ms\tremaining: 149ms\n",
      "35:\tlearn: 0.0412569\ttotal: 81.9ms\tremaining: 146ms\n",
      "36:\tlearn: 0.0402309\ttotal: 83.7ms\tremaining: 142ms\n",
      "37:\tlearn: 0.0384056\ttotal: 85.5ms\tremaining: 140ms\n",
      "38:\tlearn: 0.0366404\ttotal: 89.2ms\tremaining: 140ms\n",
      "39:\tlearn: 0.0358223\ttotal: 91.1ms\tremaining: 137ms\n",
      "40:\tlearn: 0.0346319\ttotal: 93.1ms\tremaining: 134ms\n",
      "41:\tlearn: 0.0335563\ttotal: 94.8ms\tremaining: 131ms\n",
      "42:\tlearn: 0.0318836\ttotal: 96.5ms\tremaining: 128ms\n",
      "43:\tlearn: 0.0309632\ttotal: 98.3ms\tremaining: 125ms\n",
      "44:\tlearn: 0.0291630\ttotal: 100ms\tremaining: 122ms\n",
      "45:\tlearn: 0.0284796\ttotal: 104ms\tremaining: 122ms\n",
      "46:\tlearn: 0.0276187\ttotal: 106ms\tremaining: 119ms\n",
      "47:\tlearn: 0.0274203\ttotal: 108ms\tremaining: 117ms\n",
      "48:\tlearn: 0.0266858\ttotal: 109ms\tremaining: 114ms\n",
      "49:\tlearn: 0.0255035\ttotal: 111ms\tremaining: 111ms\n",
      "50:\tlearn: 0.0250448\ttotal: 113ms\tremaining: 109ms\n",
      "51:\tlearn: 0.0243766\ttotal: 115ms\tremaining: 106ms\n",
      "52:\tlearn: 0.0239841\ttotal: 117ms\tremaining: 103ms\n",
      "53:\tlearn: 0.0235533\ttotal: 120ms\tremaining: 102ms\n",
      "54:\tlearn: 0.0229662\ttotal: 122ms\tremaining: 99.7ms\n",
      "55:\tlearn: 0.0226541\ttotal: 124ms\tremaining: 97.1ms\n",
      "56:\tlearn: 0.0221173\ttotal: 125ms\tremaining: 94.6ms\n",
      "57:\tlearn: 0.0219194\ttotal: 128ms\tremaining: 92.6ms\n",
      "58:\tlearn: 0.0215699\ttotal: 130ms\tremaining: 90.3ms\n",
      "59:\tlearn: 0.0210325\ttotal: 132ms\tremaining: 88.2ms\n",
      "60:\tlearn: 0.0206499\ttotal: 136ms\tremaining: 87ms\n",
      "61:\tlearn: 0.0196922\ttotal: 138ms\tremaining: 84.9ms\n",
      "62:\tlearn: 0.0194515\ttotal: 140ms\tremaining: 82.4ms\n",
      "63:\tlearn: 0.0192052\ttotal: 142ms\tremaining: 79.9ms\n",
      "64:\tlearn: 0.0188857\ttotal: 144ms\tremaining: 77.5ms\n",
      "65:\tlearn: 0.0183885\ttotal: 146ms\tremaining: 75.1ms\n",
      "66:\tlearn: 0.0181820\ttotal: 148ms\tremaining: 72.7ms\n",
      "67:\tlearn: 0.0177603\ttotal: 149ms\tremaining: 70.3ms\n",
      "68:\tlearn: 0.0175179\ttotal: 154ms\tremaining: 69.1ms\n",
      "69:\tlearn: 0.0172176\ttotal: 156ms\tremaining: 66.7ms\n",
      "70:\tlearn: 0.0167072\ttotal: 158ms\tremaining: 64.4ms\n",
      "71:\tlearn: 0.0164535\ttotal: 160ms\tremaining: 62.2ms\n",
      "72:\tlearn: 0.0161695\ttotal: 162ms\tremaining: 60ms\n",
      "73:\tlearn: 0.0159459\ttotal: 164ms\tremaining: 57.6ms\n",
      "74:\tlearn: 0.0155074\ttotal: 168ms\tremaining: 55.9ms\n",
      "75:\tlearn: 0.0151933\ttotal: 170ms\tremaining: 53.5ms\n",
      "76:\tlearn: 0.0149370\ttotal: 171ms\tremaining: 51.2ms\n",
      "77:\tlearn: 0.0145857\ttotal: 173ms\tremaining: 48.8ms\n",
      "78:\tlearn: 0.0144718\ttotal: 175ms\tremaining: 46.5ms\n",
      "79:\tlearn: 0.0141795\ttotal: 177ms\tremaining: 44.3ms\n",
      "80:\tlearn: 0.0138524\ttotal: 180ms\tremaining: 42.1ms\n",
      "81:\tlearn: 0.0137199\ttotal: 183ms\tremaining: 40.2ms\n",
      "82:\tlearn: 0.0135161\ttotal: 186ms\tremaining: 38ms\n",
      "83:\tlearn: 0.0133975\ttotal: 188ms\tremaining: 35.8ms\n",
      "84:\tlearn: 0.0131813\ttotal: 190ms\tremaining: 33.5ms\n",
      "85:\tlearn: 0.0131184\ttotal: 192ms\tremaining: 31.2ms\n",
      "86:\tlearn: 0.0128681\ttotal: 194ms\tremaining: 29ms\n",
      "87:\tlearn: 0.0127420\ttotal: 196ms\tremaining: 26.8ms\n",
      "88:\tlearn: 0.0125562\ttotal: 200ms\tremaining: 24.7ms\n",
      "89:\tlearn: 0.0124437\ttotal: 202ms\tremaining: 22.5ms\n",
      "90:\tlearn: 0.0123139\ttotal: 204ms\tremaining: 20.2ms\n",
      "91:\tlearn: 0.0122316\ttotal: 206ms\tremaining: 17.9ms\n",
      "92:\tlearn: 0.0121471\ttotal: 208ms\tremaining: 15.6ms\n",
      "93:\tlearn: 0.0120572\ttotal: 210ms\tremaining: 13.4ms\n",
      "94:\tlearn: 0.0117196\ttotal: 212ms\tremaining: 11.2ms\n",
      "95:\tlearn: 0.0114890\ttotal: 216ms\tremaining: 8.98ms\n",
      "96:\tlearn: 0.0113524\ttotal: 217ms\tremaining: 6.72ms\n",
      "97:\tlearn: 0.0112796\ttotal: 219ms\tremaining: 4.47ms\n",
      "98:\tlearn: 0.0110994\ttotal: 221ms\tremaining: 2.23ms\n",
      "99:\tlearn: 0.0107989\ttotal: 223ms\tremaining: 0us\n",
      "LogisticRegression - confusion matrix:\n",
      "[[16  1  0]\n",
      " [ 0 11  0]\n",
      " [ 0  0 14]]\n"
     ]
    },
    {
     "data": {
      "image/png": "[encoded data removed]",
      "text/plain": [
       "<Figure size 640x480 with 2 Axes>"
      ]
     },
     "metadata": {},
     "output_type": "display_data"
    }
   ],
   "source": [
    "# Initialize variables to store precision and model name\n",
    "highest_precision = 0\n",
    "best_model_name = ''\n",
    "\n",
    "# Iterate over the models\n",
    "for model, model_name in zip(models, model_names):\n",
    "    model.fit(X_train, y_train)\n",
    "    y_pred = model.predict(X_test)\n",
    "    precision = precision_score(y_test, y_pred, average='weighted')\n",
    "    if precision > highest_precision:\n",
    "        highest_precision = precision\n",
    "        best_model_name = model_name\n",
    "        best_model = model\n",
    "\n",
    "# create a confusion matrix for the best model\n",
    "cm = confusion_matrix(y_test, best_model.predict(X_test))\n",
    "print(f'{best_model_name} - confusion matrix:')\n",
    "print(cm)\n",
    "sns.heatmap(cm,annot=True,fmt='d')\n",
    "plt.show()\n"
   ]
  },
  {
   "attachments": {},
   "cell_type": "markdown",
   "metadata": {},
   "source": [
    "##### making a Predictive System\n"
   ]
  },
  {
   "cell_type": "code",
   "execution_count": 20,
   "metadata": {},
   "outputs": [
    {
     "name": "stdout",
     "output_type": "stream",
     "text": [
      "class 3\n"
     ]
    },
    {
     "name": "stderr",
     "output_type": "stream",
     "text": [
      "c:\\Users\\HP\\Downloads\\WheatKernel\\venv\\lib\\site-packages\\sklearn\\base.py:439: UserWarning: X does not have valid feature names, but ExtraTreesClassifier was fitted with feature names\n",
      "  warnings.warn(\n"
     ]
    }
   ],
   "source": [
    "input_data=(14.99,14.56,0.8883,5.57,3.377,2.958,5.175)\n",
    "input_data_as_numpy_array =np.asarray(input_data)\n",
    "input_data_reshaped = input_data_as_numpy_array.reshape(1,-1)\n",
    "prediction =model.predict(input_data_reshaped)\n",
    "if(prediction==1):\n",
    "    print('class 1')\n",
    "elif(prediction==2):\n",
    "    print('class 2')\n",
    "else:\n",
    "    print('class 3')      "
   ]
  }
 ],
 "metadata": {
  "kernelspec": {
   "display_name": "Python 3",
   "language": "python",
   "name": "python3"
  },
  "language_info": {
   "codemirror_mode": {
    "name": "ipython",
    "version": 3
   },
   "file_extension": ".py",
   "mimetype": "text/x-python",
   "name": "python",
   "nbconvert_exporter": "python",
   "pygments_lexer": "ipython3",
   "version": "3.8.16"
  },
  "orig_nbformat": 4
 },
 "nbformat": 4,
 "nbformat_minor": 2
}
